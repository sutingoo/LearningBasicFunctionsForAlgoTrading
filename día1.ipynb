{
 "cells": [
  {
   "cell_type": "code",
   "execution_count": 1,
   "id": "c92f4c5b-ab0a-4a05-bfdf-0a6d08db7e68",
   "metadata": {},
   "outputs": [],
   "source": [
    "#FUNCIONES BASICAS\n",
    "Capital_inicial= 10\n",
    "\n",
    "ticker= \"CHILLGUY/USDT\"\n",
    "\n",
    "operacion_abierta = False\n",
    "\n"
   ]
  },
  {
   "cell_type": "code",
   "execution_count": 2,
   "id": "f5667aca-4592-4b0c-8c82-044baf2f9394",
   "metadata": {},
   "outputs": [
    {
     "name": "stdout",
     "output_type": "stream",
     "text": [
      "3\n"
     ]
    }
   ],
   "source": [
    "#LISTAS\n",
    "cierres =[1, 2, 3, 4]\n",
    "print(cierres[2])"
   ]
  },
  {
   "cell_type": "code",
   "execution_count": 3,
   "id": "afa7db02-ec0d-4c44-bc12-d20a34de1bf0",
   "metadata": {},
   "outputs": [
    {
     "name": "stdout",
     "output_type": "stream",
     "text": [
      "BTC/USDT\n"
     ]
    }
   ],
   "source": [
    "#DICCIONARIOS\n",
    "trade = {\n",
    "    \"par\":\"BTC/USDT\",\n",
    "    \"PrecioEntrada\":1,\n",
    "    \"PrecioCierre\":2,\n",
    "    \"Capital\":10,\n",
    "    \"abierto\":False\n",
    "}\n",
    "print(trade[\"par\"])"
   ]
  },
  {
   "cell_type": "code",
   "execution_count": 4,
   "id": "7d8caa6c-1508-4074-81f5-6df9ded96bd6",
   "metadata": {},
   "outputs": [
    {
     "name": "stdout",
     "output_type": "stream",
     "text": [
      "retorno: -2.53%\n"
     ]
    }
   ],
   "source": [
    "#FUNCIONES\n",
    "def retornos(precioentrada, preciocierre):\n",
    "    retorno = (preciocierre - precioentrada)/precioentrada\n",
    "    return retorno\n",
    "r = retornos(5254, 5121)\n",
    "print(f\"retorno: {r:.2%}\")\n",
    "    "
   ]
  },
  {
   "cell_type": "code",
   "execution_count": 5,
   "id": "e9a3d10c-3eee-4f83-b739-202a61fa4bf6",
   "metadata": {},
   "outputs": [
    {
     "name": "stdout",
     "output_type": "stream",
     "text": [
      "Precio de Stop Loss: 47.50\n"
     ]
    }
   ],
   "source": [
    "def PSL(Pent, SL):\n",
    "    Pcierre=Pent*(1 - SL/100)\n",
    "    return Pcierre\n",
    "r=PSL(50, 5)\n",
    "print(f\"Precio de Stop Loss: {r:.2f}\")"
   ]
  },
  {
   "cell_type": "code",
   "execution_count": 6,
   "id": "d328e0e2-6b52-442c-b1b3-8fd1f7f335a2",
   "metadata": {},
   "outputs": [
    {
     "name": "stdout",
     "output_type": "stream",
     "text": [
      "precio superior a 2:  3\n",
      "precio superior a 2:  4\n"
     ]
    }
   ],
   "source": [
    "cierres = [1, 2, 3, 4]\n",
    "for precio in cierres:\n",
    "    if precio >2:\n",
    "        print(\"precio superior a 2: \", precio)"
   ]
  },
  {
   "cell_type": "code",
   "execution_count": 7,
   "id": "22c61d70-cab9-4ffe-9d20-210fc65e3afe",
   "metadata": {
    "scrolled": true
   },
   "outputs": [
    {
     "name": "stdout",
     "output_type": "stream",
     "text": [
      "el precio inicial es:  1\n",
      "sube\n",
      "sube\n",
      "sube\n",
      "igual\n",
      "baja\n",
      "baja\n",
      "baja\n",
      "sube\n"
     ]
    }
   ],
   "source": [
    "lista = [1, 2, 3, 4, 4, 3, 2, 1, 2,]\n",
    "\n",
    "for i, precio in enumerate(lista):\n",
    "    if i == 0:\n",
    "        print(\"el precio inicial es: \", precio)\n",
    "    elif precio<lista[i-1]:\n",
    "        print(\"baja\")\n",
    "    elif precio>lista[i-1]:\n",
    "        print(\"sube\")\n",
    "    else: \n",
    "        print(\"igual\")\n",
    "    "
   ]
  },
  {
   "cell_type": "code",
   "execution_count": 8,
   "id": "590f6268-dfe4-4c0b-8885-3c109068ec2c",
   "metadata": {},
   "outputs": [
    {
     "name": "stdout",
     "output_type": "stream",
     "text": [
      "Ganancia de: 7\n",
      "Pérdida de: -2\n",
      "Pérdida de: -1\n",
      "Pérdida de: -1\n",
      "Ganancia de: 2\n",
      "Pérdida de: -2\n",
      "Pérdida de: -2\n",
      "Ganancia de: 2\n",
      "Ganancia de: 2\n",
      "No hay variación\n",
      "No hay variación\n",
      "\n",
      "Resumen final:\n",
      "El precio subió en total 5 unidades.\n",
      "\n",
      "Diccionario resumen:\n",
      "{'capital_invertido': 1000, 'retorno_total': 5, 'resultado': 'ganancia'}\n"
     ]
    }
   ],
   "source": [
    "#MINI_PROYECTO\n",
    "LISTA = [2, 9, 7, 6, 5, 7, 5, 3, 5, 7, 7, 7]\n",
    "\n",
    "\n",
    "def retorno(precio_anterior, precio_actual):\n",
    "    return precio_actual - precio_anterior\n",
    "\n",
    "for i in range(len(LISTA) - 1):\n",
    "    precio_ant = LISTA[i]\n",
    "    precio_act = LISTA[i + 1]\n",
    "    \n",
    "    Dretorno = retorno(precio_ant, precio_act)\n",
    "    \n",
    "    if precio_ant < precio_act:\n",
    "        print(f\"Ganancia de: {Dretorno}\")\n",
    "    elif precio_ant > precio_act:\n",
    "        print(f\"Pérdida de: {Dretorno}\")\n",
    "    else:\n",
    "        print(\"No hay variación\")\n",
    "\n",
    "Pfinal = LISTA[-1]\n",
    "Pinicial = LISTA[0]\n",
    "retorno_total=retorno(Pinicial,Pfinal)\n",
    "print(\"\\nResumen final:\")\n",
    "if Pfinal > Pinicial:\n",
    "    print(f\"El precio subió en total {retorno_total} unidades.\")\n",
    "elif Pfinal < Pinicial:\n",
    "    print(f\"El precio bajó en total {retorno_total} unidades.\")\n",
    "else:\n",
    "    print(\"El precio final es igual al inicial.\")\n",
    "\n",
    "capital_invertido = 1000\n",
    "\n",
    "\n",
    "if retorno_total > 0:\n",
    "    resultado = \"ganancia\"\n",
    "elif retorno_total < 0:\n",
    "    resultado = \"pérdida\"\n",
    "else:\n",
    "    resultado = \"sin cambio\"\n",
    "\n",
    "\n",
    "resumen = {\n",
    "    \"capital_invertido\": capital_invertido,\n",
    "    \"retorno_total\": retorno_total,\n",
    "    \"resultado\": resultado\n",
    "}\n",
    "\n",
    "\n",
    "print(\"\\nDiccionario resumen:\")\n",
    "print(resumen)\n",
    "\n"
   ]
  },
  {
   "cell_type": "code",
   "execution_count": null,
   "id": "63ce691a-a3a6-45e4-9a82-78eae8cf7aa5",
   "metadata": {},
   "outputs": [],
   "source": []
  }
 ],
 "metadata": {
  "kernelspec": {
   "display_name": "Python [conda env:base] *",
   "language": "python",
   "name": "conda-base-py"
  },
  "language_info": {
   "codemirror_mode": {
    "name": "ipython",
    "version": 3
   },
   "file_extension": ".py",
   "mimetype": "text/x-python",
   "name": "python",
   "nbconvert_exporter": "python",
   "pygments_lexer": "ipython3",
   "version": "3.13.5"
  }
 },
 "nbformat": 4,
 "nbformat_minor": 5
}
